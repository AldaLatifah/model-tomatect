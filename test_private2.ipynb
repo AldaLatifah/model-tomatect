{
 "cells": [
  {
   "cell_type": "code",
   "execution_count": 1,
   "metadata": {},
   "outputs": [],
   "source": [
    "import os\n",
    "import shutil\n",
    "import random\n",
    "import numpy as np\n",
    "import matplotlib.pyplot as plt\n",
    "import tensorflow as tf\n",
    "# from tensorflow.keras.preprocessing.image import ImageDataGenerator\n",
    "# from tensorflow.keras.models import Sequential\n",
    "# from tensorflow.keras.layers import Conv2D, MaxPooling2D, Flatten, Dense, Dropout, BatchNormalization\n",
    "# from tensorflow.keras.optimizers import legacy\n",
    "from sklearn.metrics import classification_report, confusion_matrix"
   ]
  },
  {
   "cell_type": "code",
   "execution_count": 2,
   "metadata": {},
   "outputs": [],
   "source": [
    "dataset_dir = 'private/tomatect'\n",
    "base_dir = 'private/splits'\n",
    "train_pct = 0.8\n",
    "validation_pct = 0.15\n",
    "test_pct = 0.05\n",
    "img_width = 150\n",
    "img_height = 150\n",
    "batch_size = 16\n",
    "\n",
    "train_dir = os.path.join(base_dir, 'train')\n",
    "validation_dir = os.path.join(base_dir, 'validation')\n",
    "test_dir = os.path.join(base_dir, 'test')"
   ]
  },
  {
   "cell_type": "code",
   "execution_count": 6,
   "metadata": {},
   "outputs": [],
   "source": [
    "# Tentukan parameter augmentasi data\n",
    "train_datagen = tf.keras.preprocessing.image.ImageDataGenerator(\n",
    "    rescale=1./255,  # Rescaling intensitas piksel menjadi rentang [0,1]\n",
    "    rotation_range=40,  # Rotasi citra hingga 40 derajat\n",
    "    width_shift_range=0.2,  # Perpindahan horizontal sebesar 20% lebar citra\n",
    "    height_shift_range=0.2,  # Perpindahan vertikal sebesar 20% tinggi citra\n",
    "    shear_range=0.2,  # Pemotongan citra sebesar 20%\n",
    "    zoom_range=0.2,  # Perbesaran citra sebesar 20%\n",
    "    horizontal_flip=True,  # Membalik citra secara horizontal\n",
    "    fill_mode='nearest'  # Mengisi piksel yang hilang dengan piksel terdekat\n",
    ")\n",
    "\n",
    "# Tentukan parameter augmentasi data untuk set validasi\n",
    "validation_datagen = tf.keras.preprocessing.image.ImageDataGenerator(rescale=1./255)\n",
    "test_datagen = tf.keras.preprocessing.image.ImageDataGenerator(rescale=1./255)"
   ]
  },
  {
   "cell_type": "code",
   "execution_count": 8,
   "metadata": {},
   "outputs": [
    {
     "name": "stdout",
     "output_type": "stream",
     "text": [
      "Found 183 images belonging to 5 classes.\n",
      "Found 30 images belonging to 5 classes.\n",
      "Found 9 images belonging to 5 classes.\n"
     ]
    }
   ],
   "source": [
    "# Membangun generator data pelatihan\n",
    "train_generator = train_datagen.flow_from_directory(\n",
    "    train_dir,\n",
    "    target_size=(img_width, img_height),\n",
    "    batch_size=batch_size,\n",
    "    class_mode='categorical'  # Menggunakan klasifikasi multikelas\n",
    ")\n",
    "\n",
    "# Membangun generator data validasi\n",
    "validation_generator = validation_datagen.flow_from_directory(\n",
    "    validation_dir,\n",
    "    target_size=(img_width, img_height),\n",
    "    batch_size=batch_size,\n",
    "    class_mode='categorical'\n",
    ")\n",
    "\n",
    "# Membangun generator data validasi\n",
    "test_generator = test_datagen.flow_from_directory(\n",
    "    test_dir,\n",
    "    target_size=(img_width, img_height),\n",
    "    batch_size=batch_size,\n",
    "    class_mode='categorical'\n",
    ")"
   ]
  },
  {
   "cell_type": "code",
   "execution_count": 18,
   "metadata": {},
   "outputs": [],
   "source": [
    "from keras.models import Sequential\n",
    "from keras.layers import Conv2D, MaxPooling2D, Flatten, Dense"
   ]
  },
  {
   "cell_type": "code",
   "execution_count": 22,
   "metadata": {},
   "outputs": [],
   "source": [
    "model = Sequential()\n",
    "model.add(Conv2D(32, (3, 3), activation='relu', input_shape=(150, 150, 3)))\n",
    "model.add(MaxPooling2D((2, 2)))\n",
    "model.add(Conv2D(64, (3, 3), activation='relu'))\n",
    "model.add(MaxPooling2D((2, 2)))\n",
    "model.add(Conv2D(64, (3, 3), activation='relu'))\n",
    "model.add(MaxPooling2D((2, 2)))\n",
    "model.add(Conv2D(64, (3, 3), activation='relu'))\n",
    "model.add(MaxPooling2D((2, 2)))\n",
    "model.add(Conv2D(64, (3, 3), activation='relu'))\n",
    "model.add(MaxPooling2D((2, 2)))\n",
    "model.add(Flatten())\n",
    "model.add(Dense(64, activation='relu'))\n",
    "model.add(Dense(5, activation='softmax'))"
   ]
  },
  {
   "cell_type": "code",
   "execution_count": 23,
   "metadata": {},
   "outputs": [],
   "source": [
    "model.compile(optimizer='adam', loss='categorical_crossentropy', metrics=['accuracy'])"
   ]
  },
  {
   "cell_type": "code",
   "execution_count": 24,
   "metadata": {},
   "outputs": [
    {
     "name": "stdout",
     "output_type": "stream",
     "text": [
      "Epoch 1/10\n"
     ]
    },
    {
     "name": "stderr",
     "output_type": "stream",
     "text": [
      "2023-06-06 20:51:03.112371: I tensorflow/core/common_runtime/executor.cc:1210] [/device:CPU:0] (DEBUG INFO) Executor start aborting (this does not indicate an error and you can ignore this message): INVALID_ARGUMENT: You must feed a value for placeholder tensor 'Placeholder/_0' with dtype int32\n",
      "\t [[{{node Placeholder/_0}}]]\n",
      "2023-06-06 20:51:03.408337: I tensorflow/core/grappler/optimizers/custom_graph_optimizer_registry.cc:114] Plugin optimizer for device_type GPU is enabled.\n"
     ]
    },
    {
     "name": "stdout",
     "output_type": "stream",
     "text": [
      "11/11 [==============================] - ETA: 0s - loss: 1.6110 - accuracy: 0.1796"
     ]
    },
    {
     "name": "stderr",
     "output_type": "stream",
     "text": [
      "2023-06-06 20:51:12.672601: I tensorflow/core/common_runtime/executor.cc:1210] [/device:CPU:0] (DEBUG INFO) Executor start aborting (this does not indicate an error and you can ignore this message): INVALID_ARGUMENT: You must feed a value for placeholder tensor 'Placeholder/_0' with dtype int32\n",
      "\t [[{{node Placeholder/_0}}]]\n",
      "2023-06-06 20:51:12.741650: I tensorflow/core/grappler/optimizers/custom_graph_optimizer_registry.cc:114] Plugin optimizer for device_type GPU is enabled.\n"
     ]
    },
    {
     "name": "stdout",
     "output_type": "stream",
     "text": [
      "11/11 [==============================] - 11s 919ms/step - loss: 1.6110 - accuracy: 0.1796 - val_loss: 1.5818 - val_accuracy: 0.2500\n",
      "Epoch 2/10\n",
      "11/11 [==============================] - 9s 817ms/step - loss: 1.5946 - accuracy: 0.2156 - val_loss: 1.5569 - val_accuracy: 0.3125\n",
      "Epoch 3/10\n",
      "11/11 [==============================] - 9s 837ms/step - loss: 1.5932 - accuracy: 0.1976 - val_loss: 1.6059 - val_accuracy: 0.1250\n",
      "Epoch 4/10\n",
      "11/11 [==============================] - 9s 852ms/step - loss: 1.5761 - accuracy: 0.2395 - val_loss: 1.5512 - val_accuracy: 0.3125\n",
      "Epoch 5/10\n",
      "11/11 [==============================] - 9s 845ms/step - loss: 1.5169 - accuracy: 0.2335 - val_loss: 1.5459 - val_accuracy: 0.1875\n",
      "Epoch 6/10\n",
      "11/11 [==============================] - 9s 829ms/step - loss: 1.4748 - accuracy: 0.3952 - val_loss: 1.5511 - val_accuracy: 0.2500\n",
      "Epoch 7/10\n",
      "11/11 [==============================] - 9s 786ms/step - loss: 1.4528 - accuracy: 0.3892 - val_loss: 1.6060 - val_accuracy: 0.3125\n",
      "Epoch 8/10\n",
      "11/11 [==============================] - 9s 859ms/step - loss: 1.4052 - accuracy: 0.3713 - val_loss: 1.4687 - val_accuracy: 0.3125\n",
      "Epoch 9/10\n",
      "11/11 [==============================] - 9s 877ms/step - loss: 1.3543 - accuracy: 0.4072 - val_loss: 1.6797 - val_accuracy: 0.1875\n",
      "Epoch 10/10\n",
      "11/11 [==============================] - 9s 824ms/step - loss: 1.4182 - accuracy: 0.3593 - val_loss: 1.5274 - val_accuracy: 0.3125\n"
     ]
    }
   ],
   "source": [
    "epochs = 10\n",
    "history = model.fit(\n",
    "    train_generator,\n",
    "    steps_per_epoch=train_generator.n // batch_size,\n",
    "    epochs=epochs,\n",
    "    validation_data=validation_generator,\n",
    "    validation_steps=validation_generator.n // batch_size\n",
    ")"
   ]
  },
  {
   "cell_type": "code",
   "execution_count": 26,
   "metadata": {},
   "outputs": [
    {
     "name": "stderr",
     "output_type": "stream",
     "text": [
      "2023-06-06 20:53:06.237441: I tensorflow/core/common_runtime/executor.cc:1210] [/device:CPU:0] (DEBUG INFO) Executor start aborting (this does not indicate an error and you can ignore this message): INVALID_ARGUMENT: You must feed a value for placeholder tensor 'Placeholder/_0' with dtype int32\n",
      "\t [[{{node Placeholder/_0}}]]\n"
     ]
    },
    {
     "name": "stdout",
     "output_type": "stream",
     "text": [
      "Validation loss: 1.3415595293045044\n",
      "Validation accuracy: 0.3333333432674408\n"
     ]
    }
   ],
   "source": [
    "score = model.evaluate(test_generator, verbose=0)\n",
    "print('Validation loss:', score[0])\n",
    "print('Validation accuracy:', score[1])"
   ]
  }
 ],
 "metadata": {
  "kernelspec": {
   "display_name": "myvenv",
   "language": "python",
   "name": "python3"
  },
  "language_info": {
   "codemirror_mode": {
    "name": "ipython",
    "version": 3
   },
   "file_extension": ".py",
   "mimetype": "text/x-python",
   "name": "python",
   "nbconvert_exporter": "python",
   "pygments_lexer": "ipython3",
   "version": "3.10.11"
  },
  "orig_nbformat": 4
 },
 "nbformat": 4,
 "nbformat_minor": 2
}
