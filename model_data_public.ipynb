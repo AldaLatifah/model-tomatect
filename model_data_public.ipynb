{
 "cells": [
  {
   "cell_type": "code",
   "execution_count": 13,
   "metadata": {},
   "outputs": [],
   "source": [
    "import os\n",
    "import shutil\n",
    "import random\n",
    "import numpy as np\n",
    "import matplotlib.pyplot as plt\n",
    "import tensorflow as tf\n",
    "# from tensorflow.keras.preprocessing.image import ImageDataGenerator\n",
    "# from tensorflow.keras.models import Sequential\n",
    "# from tensorflow.keras.layers import Conv2D, MaxPooling2D, Flatten, Dense, Dropout, BatchNormalization\n",
    "# from tensorflow.keras.optimizers import legacy\n",
    "from sklearn.metrics import classification_report, confusion_matrix"
   ]
  },
  {
   "cell_type": "code",
   "execution_count": 14,
   "metadata": {},
   "outputs": [],
   "source": [
    "dataset_dir = 'data/tomatect'\n",
    "base_dir = 'data/splits'\n",
    "train_pct = 0.8\n",
    "validation_pct = 0.15\n",
    "test_pct = 0.05\n",
    "img_width = 256\n",
    "img_height = 256\n",
    "batch_size = 32\n",
    "\n",
    "train_dir = os.path.join(base_dir, 'train')\n",
    "validation_dir = os.path.join(base_dir, 'validation')\n",
    "test_dir = os.path.join(base_dir, 'test')"
   ]
  },
  {
   "cell_type": "code",
   "execution_count": 24,
   "metadata": {},
   "outputs": [
    {
     "name": "stdout",
     "output_type": "stream",
     "text": [
      "Found 8000 files belonging to 10 classes.\n",
      "Found 1500 files belonging to 10 classes.\n",
      "Found 500 files belonging to 10 classes.\n"
     ]
    }
   ],
   "source": [
    "dataset_train = tf.keras.preprocessing.image_dataset_from_directory(\n",
    "    train_dir,\n",
    "    seed=123,\n",
    "    shuffle=True,\n",
    "    image_size=(img_height,img_width),\n",
    "    batch_size=batch_size\n",
    ")\n",
    "\n",
    "dataset_validation = tf.keras.preprocessing.image_dataset_from_directory(\n",
    "    validation_dir,\n",
    "    seed=123,\n",
    "    shuffle=True,\n",
    "    image_size=(img_height,img_width),\n",
    "    batch_size=batch_size\n",
    ")\n",
    "\n",
    "\n",
    "dataset_test = tf.keras.preprocessing.image_dataset_from_directory(\n",
    "    test_dir,\n",
    "    seed=123,\n",
    "    shuffle=False,\n",
    "    image_size=(img_height,img_width),\n",
    "    batch_size=batch_size\n",
    ")"
   ]
  },
  {
   "cell_type": "code",
   "execution_count": 25,
   "metadata": {},
   "outputs": [],
   "source": [
    "class_names = dataset_train.class_names\n",
    "\n",
    "dataset_train = dataset_train.cache().shuffle(1000).prefetch(buffer_size=tf.data.AUTOTUNE)\n",
    "dataset_validation = dataset_validation.cache().shuffle(1000).prefetch(buffer_size=tf.data.AUTOTUNE)\n",
    "dataset_test = dataset_test.cache().prefetch(buffer_size=tf.data.AUTOTUNE)"
   ]
  },
  {
   "cell_type": "code",
   "execution_count": 26,
   "metadata": {},
   "outputs": [],
   "source": [
    "data_scaling = tf.keras.Sequential([\n",
    "  tf.keras.layers.experimental.preprocessing.Resizing(img_height, img_width),\n",
    "  tf.keras.layers.experimental.preprocessing.Rescaling(1./255)\n",
    "])\n",
    "data_augmentation = tf.keras.Sequential([\n",
    "  tf.keras.layers.experimental.preprocessing.RandomFlip(\"horizontal_and_vertical\"),\n",
    "   tf.keras.layers.experimental.preprocessing.RandomRotation(0.9),\n",
    "   tf.keras.layers.experimental.preprocessing.RandomContrast(0.5),\n",
    "  tf.keras.layers.experimental.preprocessing.RandomZoom(0.2),\n",
    "  tf.keras.layers.experimental.preprocessing.RandomHeight(0.2),\n",
    "  tf.keras.layers.experimental.preprocessing.RandomWidth(0.2)    \n",
    "])"
   ]
  },
  {
   "cell_type": "code",
   "execution_count": 27,
   "metadata": {},
   "outputs": [],
   "source": [
    "train_ds = dataset_train.map(\n",
    "    lambda x, y: (data_augmentation(x, training=True), y)\n",
    ").prefetch(buffer_size=tf.data.AUTOTUNE)"
   ]
  },
  {
   "cell_type": "code",
   "execution_count": 28,
   "metadata": {},
   "outputs": [],
   "source": [
    "input_shape = (batch_size, img_width, img_height, 3)\n",
    "n_classes = 10"
   ]
  },
  {
   "cell_type": "code",
   "execution_count": 29,
   "metadata": {},
   "outputs": [],
   "source": [
    "model = tf.keras.models.Sequential([\n",
    "    data_scaling,\n",
    "  #  data_augmentation,\n",
    "    tf.keras.layers.Conv2D(32, kernel_size = (3,3), activation='relu', input_shape=input_shape),\n",
    "    tf.keras.layers.MaxPooling2D((2, 2)),\n",
    "    tf.keras.layers.Conv2D(64,  kernel_size = (3,3), activation='relu'),\n",
    "    tf.keras.layers.MaxPooling2D((2, 2)),\n",
    "    tf.keras.layers.Conv2D(64,  kernel_size = (3,3), activation='relu'),\n",
    "    tf.keras.layers.MaxPooling2D((2, 2)),\n",
    "    tf.keras.layers.Conv2D(64, (3, 3), activation='relu'),\n",
    "    tf.keras.layers.MaxPooling2D((2, 2)),\n",
    "    tf.keras.layers.Conv2D(64, (3, 3), activation='relu'),\n",
    "    tf.keras.layers.MaxPooling2D((2, 2)),\n",
    "    tf.keras.layers.Conv2D(64, (3, 3), activation='relu'),\n",
    "    tf.keras.layers.MaxPooling2D((2, 2)),\n",
    "    tf.keras.layers.Flatten(),\n",
    "    tf.keras.layers.Dense(128, activation='relu'),\n",
    "    tf.keras.layers.Dense(n_classes, activation='softmax'),\n",
    "])"
   ]
  },
  {
   "cell_type": "code",
   "execution_count": 30,
   "metadata": {},
   "outputs": [
    {
     "name": "stdout",
     "output_type": "stream",
     "text": [
      "Model: \"sequential_8\"\n",
      "_________________________________________________________________\n",
      " Layer (type)                Output Shape              Param #   \n",
      "=================================================================\n",
      " sequential_6 (Sequential)   (32, 256, 256, 3)         0         \n",
      "                                                                 \n",
      " conv2d_12 (Conv2D)          (32, 254, 254, 32)        896       \n",
      "                                                                 \n",
      " max_pooling2d_12 (MaxPooli  (32, 127, 127, 32)        0         \n",
      " ng2D)                                                           \n",
      "                                                                 \n",
      " conv2d_13 (Conv2D)          (32, 125, 125, 64)        18496     \n",
      "                                                                 \n",
      " max_pooling2d_13 (MaxPooli  (32, 62, 62, 64)          0         \n",
      " ng2D)                                                           \n",
      "                                                                 \n",
      " conv2d_14 (Conv2D)          (32, 60, 60, 64)          36928     \n",
      "                                                                 \n",
      " max_pooling2d_14 (MaxPooli  (32, 30, 30, 64)          0         \n",
      " ng2D)                                                           \n",
      "                                                                 \n",
      " conv2d_15 (Conv2D)          (32, 28, 28, 64)          36928     \n",
      "                                                                 \n",
      " max_pooling2d_15 (MaxPooli  (32, 14, 14, 64)          0         \n",
      " ng2D)                                                           \n",
      "                                                                 \n",
      " conv2d_16 (Conv2D)          (32, 12, 12, 64)          36928     \n",
      "                                                                 \n",
      " max_pooling2d_16 (MaxPooli  (32, 6, 6, 64)            0         \n",
      " ng2D)                                                           \n",
      "                                                                 \n",
      " conv2d_17 (Conv2D)          (32, 4, 4, 64)            36928     \n",
      "                                                                 \n",
      " max_pooling2d_17 (MaxPooli  (32, 2, 2, 64)            0         \n",
      " ng2D)                                                           \n",
      "                                                                 \n",
      " flatten_2 (Flatten)         (32, 256)                 0         \n",
      "                                                                 \n",
      " dense_4 (Dense)             (32, 128)                 32896     \n",
      "                                                                 \n",
      " dense_5 (Dense)             (32, 10)                  1290      \n",
      "                                                                 \n",
      "=================================================================\n",
      "Total params: 201290 (786.29 KB)\n",
      "Trainable params: 201290 (786.29 KB)\n",
      "Non-trainable params: 0 (0.00 Byte)\n",
      "_________________________________________________________________\n"
     ]
    }
   ],
   "source": [
    "model.build(input_shape=input_shape)\n",
    "\n",
    "model.summary()"
   ]
  },
  {
   "cell_type": "code",
   "execution_count": 31,
   "metadata": {},
   "outputs": [],
   "source": [
    "model.compile(\n",
    "    optimizer='adam',\n",
    "    loss=tf.keras.losses.SparseCategoricalCrossentropy(from_logits=False),\n",
    "    metrics=['accuracy']\n",
    ")"
   ]
  },
  {
   "cell_type": "code",
   "execution_count": 34,
   "metadata": {},
   "outputs": [
    {
     "name": "stdout",
     "output_type": "stream",
     "text": [
      "Epoch 1/25\n",
      "250/250 [==============================] - 123s 491ms/step - loss: 0.2323 - accuracy: 0.9168 - val_loss: 0.2931 - val_accuracy: 0.8993\n",
      "Epoch 2/25\n",
      "250/250 [==============================] - 124s 494ms/step - loss: 0.1740 - accuracy: 0.9378 - val_loss: 0.2588 - val_accuracy: 0.9180\n",
      "Epoch 3/25\n",
      "250/250 [==============================] - 116s 461ms/step - loss: 0.1270 - accuracy: 0.9559 - val_loss: 0.2637 - val_accuracy: 0.9113\n",
      "Epoch 4/25\n",
      "250/250 [==============================] - 113s 452ms/step - loss: 0.1268 - accuracy: 0.9540 - val_loss: 0.2454 - val_accuracy: 0.9160\n",
      "Epoch 5/25\n",
      "250/250 [==============================] - 118s 471ms/step - loss: 0.0954 - accuracy: 0.9673 - val_loss: 0.1882 - val_accuracy: 0.9407\n",
      "Epoch 6/25\n",
      "250/250 [==============================] - 116s 464ms/step - loss: 0.0571 - accuracy: 0.9806 - val_loss: 0.2985 - val_accuracy: 0.9233\n",
      "Epoch 7/25\n",
      "250/250 [==============================] - 109s 436ms/step - loss: 0.1084 - accuracy: 0.9626 - val_loss: 0.2199 - val_accuracy: 0.9380\n",
      "Epoch 8/25\n",
      "250/250 [==============================] - 113s 451ms/step - loss: 0.0895 - accuracy: 0.9670 - val_loss: 0.2651 - val_accuracy: 0.9280\n",
      "Epoch 9/25\n",
      "250/250 [==============================] - 114s 456ms/step - loss: 0.0486 - accuracy: 0.9835 - val_loss: 0.2446 - val_accuracy: 0.9427\n",
      "Epoch 10/25\n",
      "250/250 [==============================] - 116s 462ms/step - loss: 0.0797 - accuracy: 0.9720 - val_loss: 0.2115 - val_accuracy: 0.9320\n",
      "Epoch 11/25\n",
      "250/250 [==============================] - 115s 461ms/step - loss: 0.0258 - accuracy: 0.9928 - val_loss: 0.3219 - val_accuracy: 0.9213\n",
      "Epoch 12/25\n",
      "250/250 [==============================] - 104s 414ms/step - loss: 0.0906 - accuracy: 0.9691 - val_loss: 0.2753 - val_accuracy: 0.9213\n",
      "Epoch 13/25\n",
      "250/250 [==============================] - 107s 424ms/step - loss: 0.0402 - accuracy: 0.9863 - val_loss: 0.2704 - val_accuracy: 0.9440\n",
      "Epoch 14/25\n",
      "250/250 [==============================] - 106s 423ms/step - loss: 0.0435 - accuracy: 0.9844 - val_loss: 0.2276 - val_accuracy: 0.9433\n",
      "Epoch 15/25\n",
      "250/250 [==============================] - 109s 433ms/step - loss: 0.0646 - accuracy: 0.9813 - val_loss: 0.2472 - val_accuracy: 0.9213\n",
      "Epoch 16/25\n",
      "250/250 [==============================] - 107s 428ms/step - loss: 0.0447 - accuracy: 0.9851 - val_loss: 0.8550 - val_accuracy: 0.8327\n",
      "Epoch 17/25\n",
      "250/250 [==============================] - 106s 422ms/step - loss: 0.0669 - accuracy: 0.9789 - val_loss: 0.1845 - val_accuracy: 0.9520\n",
      "Epoch 18/25\n",
      "250/250 [==============================] - 104s 416ms/step - loss: 0.0223 - accuracy: 0.9933 - val_loss: 0.3625 - val_accuracy: 0.9047\n",
      "Epoch 19/25\n",
      "250/250 [==============================] - 105s 418ms/step - loss: 0.0538 - accuracy: 0.9826 - val_loss: 0.2707 - val_accuracy: 0.9467\n",
      "Epoch 20/25\n",
      "250/250 [==============================] - 102s 407ms/step - loss: 0.0172 - accuracy: 0.9940 - val_loss: 0.2809 - val_accuracy: 0.9400\n",
      "Epoch 21/25\n",
      "250/250 [==============================] - 103s 412ms/step - loss: 0.0345 - accuracy: 0.9888 - val_loss: 0.2699 - val_accuracy: 0.9347\n",
      "Epoch 22/25\n",
      "250/250 [==============================] - 104s 416ms/step - loss: 0.0748 - accuracy: 0.9774 - val_loss: 0.2718 - val_accuracy: 0.9340\n",
      "Epoch 23/25\n",
      "250/250 [==============================] - 100s 397ms/step - loss: 0.0440 - accuracy: 0.9866 - val_loss: 0.2844 - val_accuracy: 0.9233\n",
      "Epoch 24/25\n",
      "250/250 [==============================] - 101s 401ms/step - loss: 0.0330 - accuracy: 0.9881 - val_loss: 0.2293 - val_accuracy: 0.9507\n",
      "Epoch 25/25\n",
      "250/250 [==============================] - 99s 396ms/step - loss: 0.0033 - accuracy: 0.9991 - val_loss: 0.2106 - val_accuracy: 0.9567\n"
     ]
    }
   ],
   "source": [
    "history = model.fit(\n",
    "    dataset_train,\n",
    "    batch_size=32,\n",
    "    #steps_per_epoch=len(dataset_test)// batch_size,\n",
    "    validation_data=dataset_validation,\n",
    "    verbose=1,\n",
    "    epochs=25,\n",
    ")"
   ]
  },
  {
   "cell_type": "code",
   "execution_count": 35,
   "metadata": {},
   "outputs": [
    {
     "name": "stdout",
     "output_type": "stream",
     "text": [
      "INFO:tensorflow:Assets written to: /var/folders/gv/329dcxbs405bx2j0y5mdlxvm0000gn/T/tmpgmm06msc/assets\n"
     ]
    },
    {
     "name": "stderr",
     "output_type": "stream",
     "text": [
      "INFO:tensorflow:Assets written to: /var/folders/gv/329dcxbs405bx2j0y5mdlxvm0000gn/T/tmpgmm06msc/assets\n",
      "2023-06-14 12:43:36.809674: W tensorflow/compiler/mlir/lite/python/tf_tfl_flatbuffer_helpers.cc:364] Ignored output_format.\n",
      "2023-06-14 12:43:36.809850: W tensorflow/compiler/mlir/lite/python/tf_tfl_flatbuffer_helpers.cc:367] Ignored drop_control_dependency.\n",
      "2023-06-14 12:43:36.812798: I tensorflow/cc/saved_model/reader.cc:45] Reading SavedModel from: /var/folders/gv/329dcxbs405bx2j0y5mdlxvm0000gn/T/tmpgmm06msc\n",
      "2023-06-14 12:43:36.817363: I tensorflow/cc/saved_model/reader.cc:91] Reading meta graph with tags { serve }\n",
      "2023-06-14 12:43:36.817376: I tensorflow/cc/saved_model/reader.cc:132] Reading SavedModel debug info (if present) from: /var/folders/gv/329dcxbs405bx2j0y5mdlxvm0000gn/T/tmpgmm06msc\n",
      "2023-06-14 12:43:36.826219: I tensorflow/compiler/mlir/mlir_graph_optimization_pass.cc:375] MLIR V1 optimization pass is not enabled\n",
      "2023-06-14 12:43:36.829284: I tensorflow/cc/saved_model/loader.cc:231] Restoring SavedModel bundle.\n",
      "2023-06-14 12:43:36.956664: I tensorflow/cc/saved_model/loader.cc:215] Running initialization op on SavedModel bundle at path: /var/folders/gv/329dcxbs405bx2j0y5mdlxvm0000gn/T/tmpgmm06msc\n",
      "2023-06-14 12:43:36.985669: I tensorflow/cc/saved_model/loader.cc:314] SavedModel load for tags { serve }; Status: success: OK. Took 172871 microseconds.\n",
      "2023-06-14 12:43:37.030239: I tensorflow/compiler/mlir/tensorflow/utils/dump_mlir_util.cc:255] disabling MLIR crash reproducer, set env var `MLIR_CRASH_REPRODUCER_DIRECTORY` to enable.\n"
     ]
    }
   ],
   "source": [
    "converter = tf.lite.TFLiteConverter.from_keras_model(model)\n",
    "tflite_model = converter.convert()"
   ]
  },
  {
   "cell_type": "code",
   "execution_count": 36,
   "metadata": {},
   "outputs": [],
   "source": [
    "# Save the TFLite model to a file\n",
    "with open('model_data_public.tflite', 'wb') as f:\n",
    "    f.write(tflite_model)"
   ]
  },
  {
   "cell_type": "code",
   "execution_count": 37,
   "metadata": {},
   "outputs": [
    {
     "name": "stderr",
     "output_type": "stream",
     "text": [
      "/Users/aldalatifah/dev/my_test_project/myvenv/lib/python3.10/site-packages/keras/src/engine/training.py:3000: UserWarning: You are saving your model as an HDF5 file via `model.save()`. This file format is considered legacy. We recommend using instead the native Keras format, e.g. `model.save('my_model.keras')`.\n",
      "  saving_api.save_model(\n"
     ]
    }
   ],
   "source": [
    "model.save('model_public.h5')"
   ]
  },
  {
   "cell_type": "code",
   "execution_count": 39,
   "metadata": {},
   "outputs": [
    {
     "name": "stdout",
     "output_type": "stream",
     "text": [
      "16/16 [==============================] - 2s 110ms/step - loss: 0.1340 - accuracy: 0.9600\n",
      "Test Loss: 0.134\n",
      "Test Accuracy: 0.960\n"
     ]
    }
   ],
   "source": [
    "scores = model.evaluate(dataset_test)\n",
    "print(f'Test Loss: {scores[0]:.3f}')\n",
    "print(f'Test Accuracy: {scores[1]:.3f}')"
   ]
  },
  {
   "cell_type": "code",
   "execution_count": 41,
   "metadata": {},
   "outputs": [],
   "source": [
    "label_test = dataset_test.map(lambda image, label:label)"
   ]
  },
  {
   "cell_type": "code",
   "execution_count": 42,
   "metadata": {},
   "outputs": [],
   "source": [
    "label_test = np.concatenate([label.numpy() for _, label in dataset_test])"
   ]
  },
  {
   "cell_type": "code",
   "execution_count": 45,
   "metadata": {},
   "outputs": [
    {
     "name": "stdout",
     "output_type": "stream",
     "text": [
      "16/16 [==============================] - 2s 123ms/step\n"
     ]
    }
   ],
   "source": [
    "y_pred = model.predict(dataset_test)\n",
    "y_pred = np.argmax(y_pred, axis=1)"
   ]
  },
  {
   "cell_type": "code",
   "execution_count": 46,
   "metadata": {},
   "outputs": [
    {
     "name": "stdout",
     "output_type": "stream",
     "text": [
      "[[47  0  0  0  0  0  0  0  0  3]\n",
      " [ 0 47  0  2  0  0  0  0  0  1]\n",
      " [ 0  0 50  0  0  0  0  0  0  0]\n",
      " [ 3  3  0 44  0  0  0  0  0  0]\n",
      " [ 0  0  0  1 47  0  1  0  0  1]\n",
      " [ 0  0  0  0  0 50  0  0  0  0]\n",
      " [ 0  0  0  0  0  0 49  0  1  0]\n",
      " [ 0  0  0  0  0  0  0 50  0  0]\n",
      " [ 0  1  1  0  0  0  1  1 46  0]\n",
      " [ 0  0  0  0  0  0  0  0  0 50]]\n"
     ]
    }
   ],
   "source": [
    "con_mat = confusion_matrix(label_test, y_pred)\n",
    "print(con_mat)"
   ]
  },
  {
   "cell_type": "code",
   "execution_count": 51,
   "metadata": {},
   "outputs": [
    {
     "data": {
      "image/png": "[encoded data removed]",
      "text/plain": [
       "<Figure size 800x600 with 2 Axes>"
      ]
     },
     "metadata": {},
     "output_type": "display_data"
    }
   ],
   "source": [
    "import seaborn as sns\n",
    "import matplotlib.pyplot as plt\n",
    "from sklearn.metrics import confusion_matrix\n",
    "\n",
    "plt.figure(figsize=(8, 6))\n",
    "sns.heatmap(con_mat, annot=True, cmap='YlOrRd', xticklabels=class_names, yticklabels=class_names)\n",
    "\n",
    "# Add labels, title, and axis ticks\n",
    "plt.xlabel('Predicted Labels')\n",
    "plt.ylabel('True Labels')\n",
    "plt.title('Confusion Matrix')\n",
    "plt.xticks(ticks=range(len(class_names)), labels=class_names)\n",
    "plt.yticks(ticks=range(len(class_names)), labels=class_names)\n",
    "\n",
    "plt.show()"
   ]
  },
  {
   "cell_type": "code",
   "execution_count": 52,
   "metadata": {},
   "outputs": [],
   "source": [
    "# Define true positive, true negative, false positive, false negative\n",
    "TP = np.diag(con_mat)\n",
    "TN = np.sum(con_mat) - (np.sum(con_mat, axis=0) + np.sum(con_mat, axis=1) - TP)\n",
    "FP = np.sum(con_mat, axis=0) - TP\n",
    "FN = np.sum(con_mat, axis=1) - TP"
   ]
  },
  {
   "cell_type": "code",
   "execution_count": 57,
   "metadata": {},
   "outputs": [
    {
     "name": "stdout",
     "output_type": "stream",
     "text": [
      "TP :  [47 47 50 44 47 50 49 50 46 50]\n",
      "TN :  [447 446 449 447 450 450 448 449 449 445]\n",
      "FP :  [3 4 1 3 0 0 2 1 1 5]\n",
      "FN :  [3 3 0 6 3 0 1 0 4 0]\n"
     ]
    }
   ],
   "source": [
    "print(\"TP : \", TP)\n",
    "print(\"TN : \", TN)\n",
    "print(\"FP : \", FP)\n",
    "print(\"FN : \", FN)"
   ]
  },
  {
   "cell_type": "code",
   "execution_count": 53,
   "metadata": {},
   "outputs": [],
   "source": [
    "# Calculate accuracy, recall, and precision for each class\n",
    "accuracy = TP / (TP + FP + FN)\n",
    "recall = TP / (TP + FN)\n",
    "precision = TP / (TP + FP)"
   ]
  },
  {
   "cell_type": "code",
   "execution_count": 54,
   "metadata": {},
   "outputs": [
    {
     "name": "stdout",
     "output_type": "stream",
     "text": [
      "Class: bacterial_spot\n",
      "Accuracy: 0.8868\n",
      "Recall: 0.9400\n",
      "Precision: 0.9400\n",
      "---\n",
      "Class: early_blight\n",
      "Accuracy: 0.8704\n",
      "Recall: 0.9400\n",
      "Precision: 0.9216\n",
      "---\n",
      "Class: healthy\n",
      "Accuracy: 0.9804\n",
      "Recall: 1.0000\n",
      "Precision: 0.9804\n",
      "---\n",
      "Class: late_blight\n",
      "Accuracy: 0.8302\n",
      "Recall: 0.8800\n",
      "Precision: 0.9362\n",
      "---\n",
      "Class: leaf_mold\n",
      "Accuracy: 0.9400\n",
      "Recall: 0.9400\n",
      "Precision: 1.0000\n",
      "---\n",
      "Class: mosaic_virus\n",
      "Accuracy: 1.0000\n",
      "Recall: 1.0000\n",
      "Precision: 1.0000\n",
      "---\n",
      "Class: septoria_leaf_spot\n",
      "Accuracy: 0.9423\n",
      "Recall: 0.9800\n",
      "Precision: 0.9608\n",
      "---\n",
      "Class: spider_mites\n",
      "Accuracy: 0.9804\n",
      "Recall: 1.0000\n",
      "Precision: 0.9804\n",
      "---\n",
      "Class: target_spot\n",
      "Accuracy: 0.9020\n",
      "Recall: 0.9200\n",
      "Precision: 0.9787\n",
      "---\n",
      "Class: yellow_curl_virus\n",
      "Accuracy: 0.9091\n",
      "Recall: 1.0000\n",
      "Precision: 0.9091\n",
      "---\n"
     ]
    }
   ],
   "source": [
    "for i in range(len(class_names)):\n",
    "    print(f'Class: {class_names[i]}')\n",
    "    print(f'Accuracy: {accuracy[i]:.4f}')\n",
    "    print(f'Recall: {recall[i]:.4f}')\n",
    "    print(f'Precision: {precision[i]:.4f}')\n",
    "    print('---')"
   ]
  },
  {
   "cell_type": "code",
   "execution_count": 64,
   "metadata": {},
   "outputs": [],
   "source": [
    "import numpy as np\n",
    "from keras.preprocessing import image\n",
    "import matplotlib.pyplot as plt\n",
    "import matplotlib.image as mpimg\n",
    "import matplotlib.pyplot as plt\n",
    "import matplotlib.image as mpimg\n",
    "%matplotlib inline\n",
    " \n",
    "\n",
    "for image_name in os.listdir(\"data/tomatect/early_blight\") : \n",
    "    img_n = os.path.join(\"data/tomatect/early_blight\", image_name)\n",
    "    if(img_n.endswith('.jpg') or img_n.endswith('.png') or img_n.endswith('.jpeg')) :\n",
    "        img = image.load_img(img_n, target_size=(256,256))\n",
    "        print(\"name : \", img_n)\n",
    "        # imgplot = plt.imshow(img)\n",
    "        x = image.img_to_array(img)\n",
    "        x = np.expand_dims(x, axis=0)\n",
    "        \n",
    "        images = np.vstack([x])\n",
    "        classes = model.predict(images, batch_size=32)\n",
    "        print(\"Hasil : \", class_names[np.argmax(classes)])"
   ]
  },
  {
   "cell_type": "code",
   "execution_count": 65,
   "metadata": {},
   "outputs": [
    {
     "name": "stdout",
     "output_type": "stream",
     "text": [
      "name :  data/tomatect/early_blight/3fa32b26-e7bb-493e-b7c2-c40e3f3df380___RS_Erly.B 9546.JPG\n",
      "1/1 [==============================] - 0s 81ms/step\n",
      "Hasil :  early_blight\n"
     ]
    }
   ],
   "source": [
    "img = image.load_img(\"data/tomatect/early_blight/3fa32b26-e7bb-493e-b7c2-c40e3f3df380___RS_Erly.B 9546.JPG\", target_size=(256,256))\n",
    "print(\"name : \", \"data/tomatect/early_blight/3fa32b26-e7bb-493e-b7c2-c40e3f3df380___RS_Erly.B 9546.JPG\")\n",
    "# imgplot = plt.imshow(img)\n",
    "x = image.img_to_array(img)\n",
    "x = np.expand_dims(x, axis=0)\n",
    "\n",
    "images = np.vstack([x])\n",
    "classes = model.predict(images, batch_size=32)\n",
    "print(\"Hasil : \", class_names[np.argmax(classes)])"
   ]
  },
  {
   "cell_type": "code",
   "execution_count": null,
   "metadata": {},
   "outputs": [],
   "source": [
    "import cv2"
   ]
  }
 ],
 "metadata": {
  "kernelspec": {
   "display_name": "myvenv",
   "language": "python",
   "name": "python3"
  },
  "language_info": {
   "codemirror_mode": {
    "name": "ipython",
    "version": 3
   },
   "file_extension": ".py",
   "mimetype": "text/x-python",
   "name": "python",
   "nbconvert_exporter": "python",
   "pygments_lexer": "ipython3",
   "version": "3.10.11"
  },
  "orig_nbformat": 4
 },
 "nbformat": 4,
 "nbformat_minor": 2
}
